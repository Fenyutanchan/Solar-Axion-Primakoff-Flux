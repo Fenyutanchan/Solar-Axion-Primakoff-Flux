{
 "cells": [
  {
   "cell_type": "markdown",
   "metadata": {},
   "source": [
    "TBD\n",
    "---"
   ]
  },
  {
   "cell_type": "code",
   "execution_count": null,
   "metadata": {},
   "outputs": [],
   "source": [
    "from numpy import abs, sqrt\n",
    "from matplotlib import pyplot as plt\n",
    "import numpy as np"
   ]
  },
  {
   "cell_type": "code",
   "execution_count": null,
   "metadata": {},
   "outputs": [],
   "source": [
    "MeV = 1\n",
    "keV = 1e-3 * MeV\n",
    "\n",
    "\n",
    "Eγ = 10 * MeV\n",
    "ma = .1 * MeV\n",
    "mX = 931 * MeV\n",
    "mD = 9 * keV\n",
    "\n",
    "pin = Eγ * sqrt(mX / (2 * Eγ + mX))\n",
    "EX = sqrt(pin**2 + mX**2)\n",
    "s = (pin + EX)**2\n",
    "\n",
    "from PrimakoffProduction.Kinematics import CenterOfMassFrame\n",
    "cm = CenterOfMassFrame(s, 0, mX, ma, mX)"
   ]
  },
  {
   "cell_type": "code",
   "execution_count": null,
   "metadata": {},
   "outputs": [],
   "source": [
    "from PrimakoffProduction.StandardQFT import FromMasslessPhoton\n",
    "from PrimakoffProduction.Kinematics import CosθLab2CosθCM\n",
    "from PrimakoffProduction import Raffelt1986\n",
    "\n",
    "diffXsection_from_massless_photon = FromMasslessPhoton.dσ_over_dt()\n",
    "diffXsection_from_massless_photon.set_ma(ma)\n",
    "diffXsection_from_massless_photon.set_mX(mX)\n",
    "\n",
    "diffXsection_from_massless_photon_with_Debye = FromMasslessPhoton.dσ_over_dt()\n",
    "diffXsection_from_massless_photon_with_Debye.set_ma(ma)\n",
    "diffXsection_from_massless_photon_with_Debye.set_mX(mX)\n",
    "diffXsection_from_massless_photon_with_Debye.set_FXt(lambda t: sqrt(t / (t - mD**2)))\n",
    "\n",
    "diffXsection_from_Raffelt1986 = Raffelt1986.dσ_over_dCosθ()\n",
    "diffXsection_from_Raffelt1986.set_κ(mD)\n",
    "# diffXsection_from_Raffelt1986.set_mX(mX)\n",
    "\n",
    "θ_list = np.logspace(-4, np.log10(np.pi), num=100, base=10)\n",
    "cosθ_transformation_lab2cm = CosθLab2CosθCM(s, 0, mX, ma, mX)\n",
    "rslt_diffXsection_from_massless_photon = []\n",
    "rslt_diffXsection_from_massless_photon_with_Debye = []\n",
    "rslt_diffXsection_from_Raffelt1986 = []\n",
    "for θ in θ_list:\n",
    "    cosθ_lab = np.cos(θ)\n",
    "    cosθ_cm = cosθ_transformation_lab2cm.cosθCM(cosθ_lab)\n",
    "    term = (\n",
    "        diffXsection_from_massless_photon(s, cm.t(cosθ_cm)) *\n",
    "        abs(cm.dt_over_dcosθ(cosθ_cm)) *\n",
    "        abs(cosθ_transformation_lab2cm.dCosθCM_over_dCosθLab(cosθ_lab)) *\n",
    "        sqrt(1 - cosθ_lab**2)\n",
    "    )\n",
    "    rslt_diffXsection_from_massless_photon.append(term)\n",
    "\n",
    "    term = (\n",
    "        diffXsection_from_massless_photon_with_Debye(s, cm.t(cosθ_cm)) *\n",
    "        abs(cm.dt_over_dcosθ(cosθ_cm)) *\n",
    "        abs(cosθ_transformation_lab2cm.dCosθCM_over_dCosθLab(cosθ_lab)) *\n",
    "        sqrt(1 - cosθ_lab**2)\n",
    "    )\n",
    "    rslt_diffXsection_from_massless_photon_with_Debye.append(term)\n",
    "\n",
    "    term = diffXsection_from_Raffelt1986(Eγ, cosθ_lab) * sqrt(1 - cosθ_lab**2)\n",
    "    rslt_diffXsection_from_Raffelt1986.append(term)\n",
    "# end for\n",
    "\n",
    "# print(θ_list)\n",
    "# print(rslt)\n",
    "plt.loglog(θ_list, rslt_diffXsection_from_massless_photon, label=\"without Debye\")\n",
    "plt.loglog(θ_list, rslt_diffXsection_from_massless_photon_with_Debye, label=\"with Debye\")\n",
    "plt.loglog(θ_list, rslt_diffXsection_from_Raffelt1986, label=\"Raffelt1986\")\n",
    "plt.legend()\n",
    "# plt.ylim(1e-3, 1e0)\n"
   ]
  },
  {
   "cell_type": "code",
   "execution_count": null,
   "metadata": {},
   "outputs": [],
   "source": []
  }
 ],
 "metadata": {
  "kernelspec": {
   "display_name": "AxionPrimakoff",
   "language": "python",
   "name": "python3"
  },
  "language_info": {
   "codemirror_mode": {
    "name": "ipython",
    "version": 3
   },
   "file_extension": ".py",
   "mimetype": "text/x-python",
   "name": "python",
   "nbconvert_exporter": "python",
   "pygments_lexer": "ipython3",
   "version": "3.11.7"
  }
 },
 "nbformat": 4,
 "nbformat_minor": 2
}
